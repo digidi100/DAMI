{
 "cells": [
  {
   "cell_type": "markdown",
   "metadata": {},
   "source": [
    "# Module 3 notebook - pandas"
   ]
  },
  {
   "cell_type": "markdown",
   "metadata": {},
   "source": [
    "## Introduction\n",
    "\n",
    "This workbook contains my results for the assignment as specified below. I'll start, however, with a few pandas exercises from the DataCamp source:\n",
    "\n",
    "- [chapter 1 from _Manipulating DataFrames with pandas_](http://bit.ly/2ftzLk0)"
   ]
  },
  {
   "cell_type": "markdown",
   "metadata": {},
   "source": [
    "[your exercises go here ...]"
   ]
  },
  {
   "cell_type": "code",
   "execution_count": 18,
   "metadata": {},
   "outputs": [],
   "source": [
    "import pandas as pd\n",
    "xl = pd.ExcelFile(\"WorldPopulation.xlsx\")\n",
    "xl.sheet_names\n",
    "df = xl.parse(\"Blad1\")"
   ]
  },
  {
   "cell_type": "code",
   "execution_count": 19,
   "metadata": {},
   "outputs": [
    {
     "data": {
      "text/html": [
       "<div>\n",
       "<style>\n",
       "    .dataframe thead tr:only-child th {\n",
       "        text-align: right;\n",
       "    }\n",
       "\n",
       "    .dataframe thead th {\n",
       "        text-align: left;\n",
       "    }\n",
       "\n",
       "    .dataframe tbody tr th {\n",
       "        vertical-align: top;\n",
       "    }\n",
       "</style>\n",
       "<table border=\"1\" class=\"dataframe\">\n",
       "  <thead>\n",
       "    <tr style=\"text-align: right;\">\n",
       "      <th></th>\n",
       "      <th>Year</th>\n",
       "      <th>Population</th>\n",
       "    </tr>\n",
       "  </thead>\n",
       "  <tbody>\n",
       "    <tr>\n",
       "      <th>0</th>\n",
       "      <td>1960</td>\n",
       "      <td>3034971000000000</td>\n",
       "    </tr>\n",
       "    <tr>\n",
       "      <th>1</th>\n",
       "      <td>1970</td>\n",
       "      <td>3684823000000000</td>\n",
       "    </tr>\n",
       "    <tr>\n",
       "      <th>2</th>\n",
       "      <td>1980</td>\n",
       "      <td>4436590000000000</td>\n",
       "    </tr>\n",
       "    <tr>\n",
       "      <th>3</th>\n",
       "      <td>1990</td>\n",
       "      <td>5282716000000000</td>\n",
       "    </tr>\n",
       "    <tr>\n",
       "      <th>4</th>\n",
       "      <td>2000</td>\n",
       "      <td>6115974000000000</td>\n",
       "    </tr>\n",
       "  </tbody>\n",
       "</table>\n",
       "</div>"
      ],
      "text/plain": [
       "   Year        Population\n",
       "0  1960  3034971000000000\n",
       "1  1970  3684823000000000\n",
       "2  1980  4436590000000000\n",
       "3  1990  5282716000000000\n",
       "4  2000  6115974000000000"
      ]
     },
     "execution_count": 19,
     "metadata": {},
     "output_type": "execute_result"
    }
   ],
   "source": [
    "# get the first 5 rows\n",
    "df.head()"
   ]
  },
  {
   "cell_type": "code",
   "execution_count": 20,
   "metadata": {},
   "outputs": [
    {
     "name": "stdout",
     "output_type": "stream",
     "text": [
      "<class 'pandas.core.frame.DataFrame'>\n",
      "RangeIndex: 6 entries, 0 to 5\n",
      "Data columns (total 2 columns):\n",
      "Year          6 non-null int64\n",
      "Population    6 non-null int64\n",
      "dtypes: int64(2)\n",
      "memory usage: 176.0 bytes\n"
     ]
    }
   ],
   "source": [
    "# retrieve more information about a dataframe\n",
    "df.info()"
   ]
  },
  {
   "cell_type": "code",
   "execution_count": 21,
   "metadata": {},
   "outputs": [
    {
     "name": "stdout",
     "output_type": "stream",
     "text": [
      "<class 'numpy.ndarray'> <class 'numpy.ndarray'>\n",
      "<class 'pandas.core.frame.DataFrame'> <class 'pandas.core.frame.DataFrame'>\n"
     ]
    }
   ],
   "source": [
    "# Import numpy\n",
    "import numpy as np\n",
    "\n",
    "# Create array of DataFrame values: np_vals\n",
    "np_vals = df.values\n",
    "\n",
    "# Create new array of base 10 logarithm values: np_vals_log10\n",
    "np_vals_log10 = np.log10(np_vals)\n",
    "\n",
    "# Create array of new DataFrame by passing df to np.log10(): df_log10\n",
    "df_log10 = np.log10(df)\n",
    "\n",
    "# Print original and new data containers\n",
    "print(type(np_vals), type(np_vals_log10))\n",
    "print(type(df), type(df_log10))"
   ]
  },
  {
   "cell_type": "code",
   "execution_count": 26,
   "metadata": {},
   "outputs": [
    {
     "name": "stdout",
     "output_type": "stream",
     "text": [
      "[('Country', ['United States', 'Sovjet Union', 'United Kingdom', 'The Netherlands', 'Germany']), ('Values', [1118, 473, 273, 395, 854])]\n",
      "           Country  Values\n",
      "0    United States    1118\n",
      "1     Sovjet Union     473\n",
      "2   United Kingdom     273\n",
      "3  The Netherlands     395\n",
      "4          Germany     854\n"
     ]
    }
   ],
   "source": [
    "# Import pandas\n",
    "import pandas as pd\n",
    "\n",
    "list_keys = ['Country', 'Values']\n",
    "list_values = [['United States', 'Sovjet Union', 'United Kingdom', 'The Netherlands', 'Germany'],[1118, 473, 273, 395, 854]]\n",
    "\n",
    "# Zip the 2 lists together into one list of (key,value) tuples: zipped\n",
    "zipped = list(zip(list_keys, list_values))\n",
    "\n",
    "# Inspect the list using print()\n",
    "print(zipped)\n",
    "\n",
    "# Build a dictionary with the zipped list: data\n",
    "data = dict(zipped)\n",
    "\n",
    "# Build and inspect a DataFrame from the dictionary: df\n",
    "df = pd.DataFrame(data)\n",
    "print(df)"
   ]
  },
  {
   "cell_type": "markdown",
   "metadata": {},
   "source": [
    "## Assignment - Using pandas on my home brew data set\n",
    "\n",
    "### Introduction\n",
    "\n",
    "This assignment is an analysis exercise. It is not as much about the meaning of the analysis you will conduct as it is on the demonstration of common functionality you will use when doing data analysis with pandas. So first an for all it is a demonstration of your pandas skills.\n",
    "\n",
    "### Step 1: data set construction\n",
    "\n",
    "Construct an artificial dataset using either Excel, Google Sheets or numpy. Your constructed dataset has at least:\n",
    "\n",
    "1. 100 rows (measurements/events)\n",
    "1. 4 columns (variables)\n",
    "1. one date column with random daily dates in a period of at least 6 months\n",
    "1. 2 columns containing categorical variables\n",
    "1. 2 columns containing numerical variables\n",
    "\n",
    "You can use Excel's\n",
    "- rand()\n",
    "- randbetween()\n",
    "- norm.inv()\n",
    "- date()\n",
    "- vlookup()\n",
    "\n",
    "functions (or Google Sheets' equivalents) to construct your data set. If you use numpy. you can use the versatile random functions in it. If you wish you can polish your dataset by changing some randomly generated values by hand.\n",
    "\n",
    "Make up a story around your data. In other words: give your data meaning by explaining what your data represents. Being creative in making up your story helps you in improving the joy of doing this exercise! Even better: fabricate some compelling facts in your data that you will extract in your analysis of it.\n",
    "\n",
    "### Step 2: doing the analysis in pandas\n",
    "\n",
    "Conduct an analysis on your data set. Demonstrate your skills in using the following pandas functionality\n",
    "\n",
    "- creating indexes and multiply indices\n",
    "- stacking and unstacking indices\n",
    "- indexing and slicing using loc() and iloc()\n",
    "- using pivot table functionality\n",
    "- using grouping functionality both on categorical variables as on datetime variables\n",
    "- using basic statistical functions as count, mean, average and min/max\n",
    "- plotting (parts of) your data using pandas plotting functionality and seaborn\n",
    "\n",
    "Also, use an alternative SQL approach for one of your analysis steps. Just show that you are capable of leveraging your SQL skills in pandas.\n",
    "\n",
    "Annotate your analysis using markdown cells in your notebook. Briefly introduce each step in your analysis you take and lead your reader through your analysis. Here you have to apply your creativity to make up a sensible, interesting story for your user.\n",
    "\n",
    "Tip: consult the [Python Data Science Handbook](http://bit.ly/2ftE137). It has an excellent chapter on pandas with examples for all techniques you are asked to demonstrate."
   ]
  },
  {
   "cell_type": "code",
   "execution_count": null,
   "metadata": {
    "collapsed": true
   },
   "outputs": [],
   "source": []
  }
 ],
 "metadata": {
  "kernelspec": {
   "display_name": "Python 3",
   "language": "python",
   "name": "python3"
  },
  "language_info": {
   "codemirror_mode": {
    "name": "ipython",
    "version": 3
   },
   "file_extension": ".py",
   "mimetype": "text/x-python",
   "name": "python",
   "nbconvert_exporter": "python",
   "pygments_lexer": "ipython3",
   "version": "3.6.1"
  }
 },
 "nbformat": 4,
 "nbformat_minor": 2
}
