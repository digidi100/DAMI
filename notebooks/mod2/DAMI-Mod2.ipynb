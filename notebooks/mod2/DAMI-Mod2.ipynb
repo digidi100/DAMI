{
 "cells": [
  {
   "cell_type": "markdown",
   "metadata": {},
   "source": [
    "# Module 2 notebook - numpy and matplotlib"
   ]
  },
  {
   "cell_type": "markdown",
   "metadata": {},
   "source": [
    "In DAMI module 2 numpy and matplotlib are the central topics. In this notebook I've collected and created exercises from various Parts in order to develop my numpy and matplotlib skills."
   ]
  },
  {
   "cell_type": "markdown",
   "metadata": {},
   "source": [
    "## Part 1: DataCamp"
   ]
  },
  {
   "cell_type": "markdown",
   "metadata": {},
   "source": [
    "In this part I'll demonstrate basic numpy skills and my abilty to leverage on freely available course material. I've incorporated the exercises of the [numpy module](https://goo.gl/8HTXNc) from the Datacamp course _Intro to Python for Data Science_ into this notebook."
   ]
  },
  {
   "cell_type": "code",
   "execution_count": 2,
   "metadata": {},
   "outputs": [
    {
     "name": "stdout",
     "output_type": "stream",
     "text": [
      "<class 'numpy.ndarray'>\n"
     ]
    }
   ],
   "source": [
    "# Create list baseball\n",
    "baseball = [180, 215, 210, 210, 188, 176, 209, 200]\n",
    "\n",
    "# Import the numpy package as np\n",
    "import numpy as np\n",
    "\n",
    "# Create a numpy array from baseball: np_baseball\n",
    "np_baseball = np.array(baseball)\n",
    "\n",
    "# Print out type of np_baseball\n",
    "print(type(np_baseball))"
   ]
  },
  {
   "cell_type": "code",
   "execution_count": 3,
   "metadata": {
    "scrolled": true
   },
   "outputs": [
    {
     "name": "stdout",
     "output_type": "stream",
     "text": [
      "[74 74 72 72 69 71 76]\n",
      "[ 1.8796  1.8796  1.8288  1.8288  1.7526  1.8034  1.9304]\n"
     ]
    }
   ],
   "source": [
    "# height is available as a regular list\n",
    "height = [74, 74, 72, 72, 69, 71, 76]\n",
    "\n",
    "# Import numpy\n",
    "import numpy as np\n",
    "\n",
    "# Create a numpy array from height: np_height\n",
    "np_height = np.array(height)\n",
    "\n",
    "# Print out np_height\n",
    "print(np_height)\n",
    "\n",
    "# Convert np_height to m: np_height_m\n",
    "np_height_m = np_height * 0.0254\n",
    "\n",
    "# Print np_height_m\n",
    "print(np_height_m)"
   ]
  },
  {
   "cell_type": "code",
   "execution_count": 4,
   "metadata": {},
   "outputs": [
    {
     "name": "stdout",
     "output_type": "stream",
     "text": [
      "[ 23.11037639  27.60406069  28.48080465  28.48080465  27.76243923\n",
      "  24.5467457   25.43999693]\n"
     ]
    }
   ],
   "source": [
    "# height and weight are available as a regular lists\n",
    "height = [74, 74, 72, 72, 69, 71, 76]\n",
    "weight = [180, 215, 210, 210, 188, 176, 209]\n",
    "\n",
    "# Import numpy\n",
    "import numpy as np\n",
    "\n",
    "# Create array from height with correct units: np_height_m\n",
    "np_height_m = np.array(height) * 0.0254\n",
    "\n",
    "# Create array from weight with correct units: np_weight_kg\n",
    "np_weight_kg = np.array(weight) * 0.453592\n",
    "\n",
    "# Calculate the BMI: bmi\n",
    "bmi = np_weight_kg / np_height_m ** 2\n",
    "\n",
    "# Print out bmi\n",
    "print(bmi)"
   ]
  },
  {
   "cell_type": "code",
   "execution_count": 12,
   "metadata": {},
   "outputs": [
    {
     "name": "stdout",
     "output_type": "stream",
     "text": [
      "[ True False False False False  True False]\n",
      "[ 23.11037639  24.5467457 ]\n"
     ]
    }
   ],
   "source": [
    "# height and weight are available as a regular lists\n",
    "height = [74, 74, 72, 72, 69, 71, 76]\n",
    "weight = [180, 215, 210, 210, 188, 176, 209]\n",
    "\n",
    "# Import numpy\n",
    "import numpy as np\n",
    "\n",
    "# Calculate the BMI: bmi\n",
    "np_height_m = np.array(height) * 0.0254\n",
    "np_weight_kg = np.array(weight) * 0.453592\n",
    "bmi = np_weight_kg / np_height_m ** 2\n",
    "\n",
    "# Create the light array\n",
    "light = bmi < 25\n",
    "\n",
    "# Print out light\n",
    "print(light)\n",
    "\n",
    "# Print out BMIs of all baseball players whose BMI is below 25\n",
    "print(bmi[light])"
   ]
  },
  {
   "cell_type": "code",
   "execution_count": 17,
   "metadata": {},
   "outputs": [
    {
     "name": "stdout",
     "output_type": "stream",
     "text": [
      "[ True  True  True]\n"
     ]
    }
   ],
   "source": [
    "# Import numpy\n",
    "import numpy as np\n",
    "\n",
    "np_array1 = np.array([True, 1, 2]) + np.array([3, 4, False])\n",
    "np_array2 = np.array([4, 3, 0]) + np.array([0, 2, 2])\n",
    "\n",
    "# Compare (True is converted to 1, False is converted to 0)\n",
    "print(np_array1 == np_array2)"
   ]
  },
  {
   "cell_type": "code",
   "execution_count": 19,
   "metadata": {},
   "outputs": [
    {
     "name": "stdout",
     "output_type": "stream",
     "text": [
      "210\n",
      "[72 72 69]\n"
     ]
    }
   ],
   "source": [
    "# height and weight are available as a regular lists\n",
    "height = [74, 74, 72, 72, 69, 71, 76]\n",
    "weight = [180, 215, 210, 210, 188, 176, 209]\n",
    "\n",
    "# Import numpy\n",
    "import numpy as np\n",
    "\n",
    "# Store weight and height lists as numpy arrays\n",
    "np_weight = np.array(weight)\n",
    "np_height = np.array(height)\n",
    "\n",
    "# Print out the weight at index 3\n",
    "print(np_weight[3])\n",
    "\n",
    "# Print out sub-array of np_height: index 2 up to and including index 4\n",
    "print(np_height[2:5])"
   ]
  },
  {
   "cell_type": "code",
   "execution_count": 20,
   "metadata": {},
   "outputs": [
    {
     "name": "stdout",
     "output_type": "stream",
     "text": [
      "<class 'numpy.ndarray'>\n",
      "(4, 2)\n"
     ]
    }
   ],
   "source": [
    "# Create baseball, a list of lists\n",
    "baseball = [[180, 78.4],\n",
    "            [215, 102.7],\n",
    "            [210, 98.5],\n",
    "            [188, 75.2]]\n",
    "\n",
    "# Import numpy\n",
    "import numpy as np\n",
    "\n",
    "# Create a 2D numpy array from baseball: np_baseball\n",
    "np_baseball = np.array(baseball)\n",
    "\n",
    "# Print out the type of np_baseball\n",
    "print(type(np_baseball))\n",
    "\n",
    "# Print out the shape of np_baseball\n",
    "print(np_baseball.shape)"
   ]
  },
  {
   "cell_type": "code",
   "execution_count": 21,
   "metadata": {},
   "outputs": [
    {
     "name": "stdout",
     "output_type": "stream",
     "text": [
      "[ 69 188]\n",
      "74\n"
     ]
    }
   ],
   "source": [
    "# baseball is available as a regular list of lists\n",
    "baseball = [[74,180],[74,215],[72,210],[72,210],[69,188],[71,176],[76,209]]\n",
    "\n",
    "# Import numpy package\n",
    "import numpy as np\n",
    "\n",
    "# Create np_baseball (2 cols)\n",
    "np_baseball = np.array(baseball)\n",
    "\n",
    "# Print out the 5th row of np_baseball\n",
    "print(np_baseball[4, :])\n",
    "\n",
    "# Select the entire second column of np_baseball: np_weight\n",
    "np_weight = np_baseball[:, 1]\n",
    "\n",
    "# Print out height of 2nd player\n",
    "print(np_baseball[1, 0])"
   ]
  },
  {
   "cell_type": "code",
   "execution_count": 22,
   "metadata": {},
   "outputs": [
    {
     "name": "stdout",
     "output_type": "stream",
     "text": [
      "[[  74.51  179.46   28.34]\n",
      " [  74.84  215.14   26.67]\n",
      " [  72.27  210.84   32.49]\n",
      " [  72.79  209.53   25.56]\n",
      " [  69.18  188.47   38.19]\n",
      " [  71.73  176.11   30.81]\n",
      " [  76.55  208.27   31.17]]\n",
      "[[  1.8796    81.64656   27.34    ]\n",
      " [  1.8796    97.52228   25.67    ]\n",
      " [  1.8288    95.25432   31.49    ]\n",
      " [  1.8288    95.25432   24.56    ]\n",
      " [  1.7526    85.275296  37.19    ]\n",
      " [  1.8034    79.832192  29.81    ]\n",
      " [  1.9304    94.800728  30.17    ]]\n"
     ]
    }
   ],
   "source": [
    "# baseball is available as a regular list of lists\n",
    "baseball = [[74,180,27.34],[74,215,25.67],[72,210,31.49],[72,210,24.56],[69,188,37.19],[71,176,29.81],[76,209,30.17]]\n",
    "updated = [[0.51,-0.54,1],[0.84,0.14,1],[0.27,0.84,1],[0.79,-0.47,1],[0.18,0.47,1],[0.73,0.11,1],[0.55,-0.73,1]]\n",
    "\n",
    "# updated is available as 2D numpy array\n",
    "\n",
    "# Import numpy package\n",
    "import numpy as np\n",
    "\n",
    "# Create np_baseball (3 cols)\n",
    "np_baseball = np.array(baseball)\n",
    "\n",
    "# Print out addition of np_baseball and updated\n",
    "print(np_baseball + updated)\n",
    "\n",
    "# Create numpy array: conversion\n",
    "conversion = np.array([0.0254, 0.453592, 1])\n",
    "\n",
    "# Print out product of np_baseball and conversion\n",
    "print(np_baseball * conversion)"
   ]
  },
  {
   "cell_type": "code",
   "execution_count": 23,
   "metadata": {},
   "outputs": [
    {
     "name": "stdout",
     "output_type": "stream",
     "text": [
      "72.5714285714\n",
      "72.0\n"
     ]
    }
   ],
   "source": [
    "# Import numpy\n",
    "import numpy as np\n",
    "\n",
    "# np_baseball is available\n",
    "np_baseball = np.array([[74,180,27.34],[74,215,25.67],[72,210,31.49],[72,210,24.56],[69,188,37.19],[71,176,29.81],[76,209,30.17]])\n",
    "\n",
    "# Create np_height from np_baseball\n",
    "np_height = np_baseball[:, 0]\n",
    "\n",
    "# Print out the mean of np_height\n",
    "print(np.mean(np_height))\n",
    "\n",
    "# Print out the median of np_height\n",
    "print(np.median(np_height))"
   ]
  },
  {
   "cell_type": "code",
   "execution_count": 24,
   "metadata": {},
   "outputs": [
    {
     "name": "stdout",
     "output_type": "stream",
     "text": [
      "Average: 72.5714285714\n",
      "Median: 72.0\n",
      "Standard Deviation: 2.12852348939\n",
      "Correlation: [[ 1.          0.41152133]\n",
      " [ 0.41152133  1.        ]]\n"
     ]
    }
   ],
   "source": [
    "# np_baseball is available\n",
    "np_baseball = np.array([[74,180,27.34],[74,215,25.67],[72,210,31.49],[72,210,24.56],[69,188,37.19],[71,176,29.81],[76,209,30.17]])\n",
    "\n",
    "# Import numpy\n",
    "import numpy as np\n",
    "\n",
    "# Print mean height (first column)\n",
    "avg = np.mean(np_baseball[:,0])\n",
    "print(\"Average: \" + str(avg))\n",
    "\n",
    "# Print median height. Replace 'None'\n",
    "med = np.median(np_baseball[:,0])\n",
    "print(\"Median: \" + str(med))\n",
    "\n",
    "# Print out the standard deviation on height. Replace 'None'\n",
    "stddev = np.std(np_baseball[:,0])\n",
    "print(\"Standard Deviation: \" + str(stddev))\n",
    "\n",
    "# Print out correlation between first and second column. Replace 'None'\n",
    "corr = np.corrcoef(np_baseball[:,0], np_baseball[:,1])\n",
    "print(\"Correlation: \" + str(corr))"
   ]
  },
  {
   "cell_type": "code",
   "execution_count": 25,
   "metadata": {},
   "outputs": [
    {
     "name": "stdout",
     "output_type": "stream",
     "text": [
      "Median height of goalkeepers: 180.0\n",
      "Median height of other players: 180.5\n"
     ]
    }
   ],
   "source": [
    "# heights and positions are available as lists\n",
    "positions = ['GK','M','A','D','A','D','M','D','A']\n",
    "heights = [180,172,186,179,176,184,185,180,181]\n",
    "\n",
    "# Import numpy\n",
    "import numpy as np\n",
    "\n",
    "# Convert positions and heights to numpy arrays: np_positions, np_heights\n",
    "np_positions = np.array(positions)\n",
    "np_heights = np.array(heights)\n",
    "\n",
    "# Heights of the goalkeepers: gk_heights\n",
    "gk_heights = np_heights[np_positions == 'GK']\n",
    "\n",
    "# Heights of the other players: other_heights\n",
    "other_heights = np_heights[np_positions != 'GK']\n",
    "\n",
    "# Print out the median height of goalkeepers. Replace 'None'\n",
    "print(\"Median height of goalkeepers: \" + str(np.median(gk_heights)))\n",
    "\n",
    "# Print out the median height of other players. Replace 'None'\n",
    "print(\"Median height of other players: \" + str(np.median(other_heights)))"
   ]
  },
  {
   "cell_type": "markdown",
   "metadata": {},
   "source": [
    "## Part 3: ipythonblocks"
   ]
  },
  {
   "cell_type": "markdown",
   "metadata": {},
   "source": [
    "Indexing skills are key in numpy as well as in pandas. In this part I'll demonstrate my numpy indexing skills using [ipythonBlocks](https://goo.gl/43TKxr). I've installed the package using condas and imported it into this notebook. I'll pay specific attention to complex slicing and fancy indexing and boolean indexing. Fancy and boolean indexing are extensions for numpy and pandas and not available in regular python sequences such as lists and strings."
   ]
  },
  {
   "cell_type": "code",
   "execution_count": 30,
   "metadata": {
    "collapsed": true
   },
   "outputs": [],
   "source": [
    "from ipythonblocks import show_color, BlockGrid"
   ]
  },
  {
   "cell_type": "code",
   "execution_count": 27,
   "metadata": {},
   "outputs": [
    {
     "data": {
      "text/html": [
       "<div style=\"height: 60px; min-width: 200px; background-color: rgb(12, 123, 234)\"></div>"
      ],
      "text/plain": [
       "<IPython.core.display.HTML object>"
      ]
     },
     "metadata": {},
     "output_type": "display_data"
    }
   ],
   "source": [
    "show_color(12, 123, 234)"
   ]
  },
  {
   "cell_type": "code",
   "execution_count": 31,
   "metadata": {},
   "outputs": [
    {
     "data": {
      "text/html": [
       "<style type=\"text/css\">table.blockgrid {border: none;} .blockgrid tr {border: none;} .blockgrid td {padding: 0px;} #blocks4a9b6443-260a-41e1-98c2-7779bf835765 td {border: 1px solid white;}</style><table id=\"blocks4a9b6443-260a-41e1-98c2-7779bf835765\" class=\"blockgrid\"><tbody><tr><td title=\"Index: [0, 0]&#10;Color: (123, 234, 123)\" style=\"width: 20px; height: 20px;background-color: rgb(123, 234, 123);\"></td><td title=\"Index: [0, 1]&#10;Color: (123, 234, 123)\" style=\"width: 20px; height: 20px;background-color: rgb(123, 234, 123);\"></td><td title=\"Index: [0, 2]&#10;Color: (123, 234, 123)\" style=\"width: 20px; height: 20px;background-color: rgb(123, 234, 123);\"></td><td title=\"Index: [0, 3]&#10;Color: (123, 234, 123)\" style=\"width: 20px; height: 20px;background-color: rgb(123, 234, 123);\"></td><td title=\"Index: [0, 4]&#10;Color: (123, 234, 123)\" style=\"width: 20px; height: 20px;background-color: rgb(123, 234, 123);\"></td><td title=\"Index: [0, 5]&#10;Color: (123, 234, 123)\" style=\"width: 20px; height: 20px;background-color: rgb(123, 234, 123);\"></td><td title=\"Index: [0, 6]&#10;Color: (123, 234, 123)\" style=\"width: 20px; height: 20px;background-color: rgb(123, 234, 123);\"></td><td title=\"Index: [0, 7]&#10;Color: (123, 234, 123)\" style=\"width: 20px; height: 20px;background-color: rgb(123, 234, 123);\"></td><td title=\"Index: [0, 8]&#10;Color: (123, 234, 123)\" style=\"width: 20px; height: 20px;background-color: rgb(123, 234, 123);\"></td><td title=\"Index: [0, 9]&#10;Color: (123, 234, 123)\" style=\"width: 20px; height: 20px;background-color: rgb(123, 234, 123);\"></td></tr><tr><td title=\"Index: [1, 0]&#10;Color: (123, 234, 123)\" style=\"width: 20px; height: 20px;background-color: rgb(123, 234, 123);\"></td><td title=\"Index: [1, 1]&#10;Color: (123, 234, 123)\" style=\"width: 20px; height: 20px;background-color: rgb(123, 234, 123);\"></td><td title=\"Index: [1, 2]&#10;Color: (123, 234, 123)\" style=\"width: 20px; height: 20px;background-color: rgb(123, 234, 123);\"></td><td title=\"Index: [1, 3]&#10;Color: (123, 234, 123)\" style=\"width: 20px; height: 20px;background-color: rgb(123, 234, 123);\"></td><td title=\"Index: [1, 4]&#10;Color: (123, 234, 123)\" style=\"width: 20px; height: 20px;background-color: rgb(123, 234, 123);\"></td><td title=\"Index: [1, 5]&#10;Color: (123, 234, 123)\" style=\"width: 20px; height: 20px;background-color: rgb(123, 234, 123);\"></td><td title=\"Index: [1, 6]&#10;Color: (123, 234, 123)\" style=\"width: 20px; height: 20px;background-color: rgb(123, 234, 123);\"></td><td title=\"Index: [1, 7]&#10;Color: (123, 234, 123)\" style=\"width: 20px; height: 20px;background-color: rgb(123, 234, 123);\"></td><td title=\"Index: [1, 8]&#10;Color: (123, 234, 123)\" style=\"width: 20px; height: 20px;background-color: rgb(123, 234, 123);\"></td><td title=\"Index: [1, 9]&#10;Color: (123, 234, 123)\" style=\"width: 20px; height: 20px;background-color: rgb(123, 234, 123);\"></td></tr><tr><td title=\"Index: [2, 0]&#10;Color: (123, 234, 123)\" style=\"width: 20px; height: 20px;background-color: rgb(123, 234, 123);\"></td><td title=\"Index: [2, 1]&#10;Color: (123, 234, 123)\" style=\"width: 20px; height: 20px;background-color: rgb(123, 234, 123);\"></td><td title=\"Index: [2, 2]&#10;Color: (123, 234, 123)\" style=\"width: 20px; height: 20px;background-color: rgb(123, 234, 123);\"></td><td title=\"Index: [2, 3]&#10;Color: (123, 234, 123)\" style=\"width: 20px; height: 20px;background-color: rgb(123, 234, 123);\"></td><td title=\"Index: [2, 4]&#10;Color: (123, 234, 123)\" style=\"width: 20px; height: 20px;background-color: rgb(123, 234, 123);\"></td><td title=\"Index: [2, 5]&#10;Color: (123, 234, 123)\" style=\"width: 20px; height: 20px;background-color: rgb(123, 234, 123);\"></td><td title=\"Index: [2, 6]&#10;Color: (123, 234, 123)\" style=\"width: 20px; height: 20px;background-color: rgb(123, 234, 123);\"></td><td title=\"Index: [2, 7]&#10;Color: (123, 234, 123)\" style=\"width: 20px; height: 20px;background-color: rgb(123, 234, 123);\"></td><td title=\"Index: [2, 8]&#10;Color: (123, 234, 123)\" style=\"width: 20px; height: 20px;background-color: rgb(123, 234, 123);\"></td><td title=\"Index: [2, 9]&#10;Color: (123, 234, 123)\" style=\"width: 20px; height: 20px;background-color: rgb(123, 234, 123);\"></td></tr><tr><td title=\"Index: [3, 0]&#10;Color: (123, 234, 123)\" style=\"width: 20px; height: 20px;background-color: rgb(123, 234, 123);\"></td><td title=\"Index: [3, 1]&#10;Color: (123, 234, 123)\" style=\"width: 20px; height: 20px;background-color: rgb(123, 234, 123);\"></td><td title=\"Index: [3, 2]&#10;Color: (123, 234, 123)\" style=\"width: 20px; height: 20px;background-color: rgb(123, 234, 123);\"></td><td title=\"Index: [3, 3]&#10;Color: (123, 234, 123)\" style=\"width: 20px; height: 20px;background-color: rgb(123, 234, 123);\"></td><td title=\"Index: [3, 4]&#10;Color: (123, 234, 123)\" style=\"width: 20px; height: 20px;background-color: rgb(123, 234, 123);\"></td><td title=\"Index: [3, 5]&#10;Color: (123, 234, 123)\" style=\"width: 20px; height: 20px;background-color: rgb(123, 234, 123);\"></td><td title=\"Index: [3, 6]&#10;Color: (123, 234, 123)\" style=\"width: 20px; height: 20px;background-color: rgb(123, 234, 123);\"></td><td title=\"Index: [3, 7]&#10;Color: (123, 234, 123)\" style=\"width: 20px; height: 20px;background-color: rgb(123, 234, 123);\"></td><td title=\"Index: [3, 8]&#10;Color: (123, 234, 123)\" style=\"width: 20px; height: 20px;background-color: rgb(123, 234, 123);\"></td><td title=\"Index: [3, 9]&#10;Color: (123, 234, 123)\" style=\"width: 20px; height: 20px;background-color: rgb(123, 234, 123);\"></td></tr><tr><td title=\"Index: [4, 0]&#10;Color: (123, 234, 123)\" style=\"width: 20px; height: 20px;background-color: rgb(123, 234, 123);\"></td><td title=\"Index: [4, 1]&#10;Color: (123, 234, 123)\" style=\"width: 20px; height: 20px;background-color: rgb(123, 234, 123);\"></td><td title=\"Index: [4, 2]&#10;Color: (123, 234, 123)\" style=\"width: 20px; height: 20px;background-color: rgb(123, 234, 123);\"></td><td title=\"Index: [4, 3]&#10;Color: (123, 234, 123)\" style=\"width: 20px; height: 20px;background-color: rgb(123, 234, 123);\"></td><td title=\"Index: [4, 4]&#10;Color: (123, 234, 123)\" style=\"width: 20px; height: 20px;background-color: rgb(123, 234, 123);\"></td><td title=\"Index: [4, 5]&#10;Color: (123, 234, 123)\" style=\"width: 20px; height: 20px;background-color: rgb(123, 234, 123);\"></td><td title=\"Index: [4, 6]&#10;Color: (123, 234, 123)\" style=\"width: 20px; height: 20px;background-color: rgb(123, 234, 123);\"></td><td title=\"Index: [4, 7]&#10;Color: (123, 234, 123)\" style=\"width: 20px; height: 20px;background-color: rgb(123, 234, 123);\"></td><td title=\"Index: [4, 8]&#10;Color: (123, 234, 123)\" style=\"width: 20px; height: 20px;background-color: rgb(123, 234, 123);\"></td><td title=\"Index: [4, 9]&#10;Color: (123, 234, 123)\" style=\"width: 20px; height: 20px;background-color: rgb(123, 234, 123);\"></td></tr><tr><td title=\"Index: [5, 0]&#10;Color: (123, 234, 123)\" style=\"width: 20px; height: 20px;background-color: rgb(123, 234, 123);\"></td><td title=\"Index: [5, 1]&#10;Color: (123, 234, 123)\" style=\"width: 20px; height: 20px;background-color: rgb(123, 234, 123);\"></td><td title=\"Index: [5, 2]&#10;Color: (123, 234, 123)\" style=\"width: 20px; height: 20px;background-color: rgb(123, 234, 123);\"></td><td title=\"Index: [5, 3]&#10;Color: (123, 234, 123)\" style=\"width: 20px; height: 20px;background-color: rgb(123, 234, 123);\"></td><td title=\"Index: [5, 4]&#10;Color: (123, 234, 123)\" style=\"width: 20px; height: 20px;background-color: rgb(123, 234, 123);\"></td><td title=\"Index: [5, 5]&#10;Color: (123, 234, 123)\" style=\"width: 20px; height: 20px;background-color: rgb(123, 234, 123);\"></td><td title=\"Index: [5, 6]&#10;Color: (123, 234, 123)\" style=\"width: 20px; height: 20px;background-color: rgb(123, 234, 123);\"></td><td title=\"Index: [5, 7]&#10;Color: (123, 234, 123)\" style=\"width: 20px; height: 20px;background-color: rgb(123, 234, 123);\"></td><td title=\"Index: [5, 8]&#10;Color: (123, 234, 123)\" style=\"width: 20px; height: 20px;background-color: rgb(123, 234, 123);\"></td><td title=\"Index: [5, 9]&#10;Color: (123, 234, 123)\" style=\"width: 20px; height: 20px;background-color: rgb(123, 234, 123);\"></td></tr><tr><td title=\"Index: [6, 0]&#10;Color: (123, 234, 123)\" style=\"width: 20px; height: 20px;background-color: rgb(123, 234, 123);\"></td><td title=\"Index: [6, 1]&#10;Color: (123, 234, 123)\" style=\"width: 20px; height: 20px;background-color: rgb(123, 234, 123);\"></td><td title=\"Index: [6, 2]&#10;Color: (123, 234, 123)\" style=\"width: 20px; height: 20px;background-color: rgb(123, 234, 123);\"></td><td title=\"Index: [6, 3]&#10;Color: (123, 234, 123)\" style=\"width: 20px; height: 20px;background-color: rgb(123, 234, 123);\"></td><td title=\"Index: [6, 4]&#10;Color: (123, 234, 123)\" style=\"width: 20px; height: 20px;background-color: rgb(123, 234, 123);\"></td><td title=\"Index: [6, 5]&#10;Color: (123, 234, 123)\" style=\"width: 20px; height: 20px;background-color: rgb(123, 234, 123);\"></td><td title=\"Index: [6, 6]&#10;Color: (123, 234, 123)\" style=\"width: 20px; height: 20px;background-color: rgb(123, 234, 123);\"></td><td title=\"Index: [6, 7]&#10;Color: (123, 234, 123)\" style=\"width: 20px; height: 20px;background-color: rgb(123, 234, 123);\"></td><td title=\"Index: [6, 8]&#10;Color: (123, 234, 123)\" style=\"width: 20px; height: 20px;background-color: rgb(123, 234, 123);\"></td><td title=\"Index: [6, 9]&#10;Color: (123, 234, 123)\" style=\"width: 20px; height: 20px;background-color: rgb(123, 234, 123);\"></td></tr><tr><td title=\"Index: [7, 0]&#10;Color: (123, 234, 123)\" style=\"width: 20px; height: 20px;background-color: rgb(123, 234, 123);\"></td><td title=\"Index: [7, 1]&#10;Color: (123, 234, 123)\" style=\"width: 20px; height: 20px;background-color: rgb(123, 234, 123);\"></td><td title=\"Index: [7, 2]&#10;Color: (123, 234, 123)\" style=\"width: 20px; height: 20px;background-color: rgb(123, 234, 123);\"></td><td title=\"Index: [7, 3]&#10;Color: (123, 234, 123)\" style=\"width: 20px; height: 20px;background-color: rgb(123, 234, 123);\"></td><td title=\"Index: [7, 4]&#10;Color: (123, 234, 123)\" style=\"width: 20px; height: 20px;background-color: rgb(123, 234, 123);\"></td><td title=\"Index: [7, 5]&#10;Color: (123, 234, 123)\" style=\"width: 20px; height: 20px;background-color: rgb(123, 234, 123);\"></td><td title=\"Index: [7, 6]&#10;Color: (123, 234, 123)\" style=\"width: 20px; height: 20px;background-color: rgb(123, 234, 123);\"></td><td title=\"Index: [7, 7]&#10;Color: (123, 234, 123)\" style=\"width: 20px; height: 20px;background-color: rgb(123, 234, 123);\"></td><td title=\"Index: [7, 8]&#10;Color: (123, 234, 123)\" style=\"width: 20px; height: 20px;background-color: rgb(123, 234, 123);\"></td><td title=\"Index: [7, 9]&#10;Color: (123, 234, 123)\" style=\"width: 20px; height: 20px;background-color: rgb(123, 234, 123);\"></td></tr><tr><td title=\"Index: [8, 0]&#10;Color: (123, 234, 123)\" style=\"width: 20px; height: 20px;background-color: rgb(123, 234, 123);\"></td><td title=\"Index: [8, 1]&#10;Color: (123, 234, 123)\" style=\"width: 20px; height: 20px;background-color: rgb(123, 234, 123);\"></td><td title=\"Index: [8, 2]&#10;Color: (123, 234, 123)\" style=\"width: 20px; height: 20px;background-color: rgb(123, 234, 123);\"></td><td title=\"Index: [8, 3]&#10;Color: (123, 234, 123)\" style=\"width: 20px; height: 20px;background-color: rgb(123, 234, 123);\"></td><td title=\"Index: [8, 4]&#10;Color: (123, 234, 123)\" style=\"width: 20px; height: 20px;background-color: rgb(123, 234, 123);\"></td><td title=\"Index: [8, 5]&#10;Color: (123, 234, 123)\" style=\"width: 20px; height: 20px;background-color: rgb(123, 234, 123);\"></td><td title=\"Index: [8, 6]&#10;Color: (123, 234, 123)\" style=\"width: 20px; height: 20px;background-color: rgb(123, 234, 123);\"></td><td title=\"Index: [8, 7]&#10;Color: (123, 234, 123)\" style=\"width: 20px; height: 20px;background-color: rgb(123, 234, 123);\"></td><td title=\"Index: [8, 8]&#10;Color: (123, 234, 123)\" style=\"width: 20px; height: 20px;background-color: rgb(123, 234, 123);\"></td><td title=\"Index: [8, 9]&#10;Color: (123, 234, 123)\" style=\"width: 20px; height: 20px;background-color: rgb(123, 234, 123);\"></td></tr><tr><td title=\"Index: [9, 0]&#10;Color: (123, 234, 123)\" style=\"width: 20px; height: 20px;background-color: rgb(123, 234, 123);\"></td><td title=\"Index: [9, 1]&#10;Color: (123, 234, 123)\" style=\"width: 20px; height: 20px;background-color: rgb(123, 234, 123);\"></td><td title=\"Index: [9, 2]&#10;Color: (123, 234, 123)\" style=\"width: 20px; height: 20px;background-color: rgb(123, 234, 123);\"></td><td title=\"Index: [9, 3]&#10;Color: (123, 234, 123)\" style=\"width: 20px; height: 20px;background-color: rgb(123, 234, 123);\"></td><td title=\"Index: [9, 4]&#10;Color: (123, 234, 123)\" style=\"width: 20px; height: 20px;background-color: rgb(123, 234, 123);\"></td><td title=\"Index: [9, 5]&#10;Color: (123, 234, 123)\" style=\"width: 20px; height: 20px;background-color: rgb(123, 234, 123);\"></td><td title=\"Index: [9, 6]&#10;Color: (123, 234, 123)\" style=\"width: 20px; height: 20px;background-color: rgb(123, 234, 123);\"></td><td title=\"Index: [9, 7]&#10;Color: (123, 234, 123)\" style=\"width: 20px; height: 20px;background-color: rgb(123, 234, 123);\"></td><td title=\"Index: [9, 8]&#10;Color: (123, 234, 123)\" style=\"width: 20px; height: 20px;background-color: rgb(123, 234, 123);\"></td><td title=\"Index: [9, 9]&#10;Color: (123, 234, 123)\" style=\"width: 20px; height: 20px;background-color: rgb(123, 234, 123);\"></td></tr></tbody></table>"
      ],
      "text/plain": [
       "<ipythonblocks.ipythonblocks.BlockGrid at 0x1a32af8a400>"
      ]
     },
     "execution_count": 31,
     "metadata": {},
     "output_type": "execute_result"
    }
   ],
   "source": [
    "grid = BlockGrid(10, 10, fill=(123, 234, 123))\n",
    "grid"
   ]
  },
  {
   "cell_type": "code",
   "execution_count": 34,
   "metadata": {},
   "outputs": [
    {
     "data": {
      "text/html": [
       "<style type=\"text/css\">table.blockgrid {border: none;} .blockgrid tr {border: none;} .blockgrid td {padding: 0px;} #blockse4ce9492-ff89-483f-ba4e-6253c0b07920 td {border: 1px solid white;}</style><table id=\"blockse4ce9492-ff89-483f-ba4e-6253c0b07920\" class=\"blockgrid\"><tbody><tr><td title=\"Index: [0, 0]&#10;Color: (0, 0, 0)\" style=\"width: 20px; height: 20px;background-color: rgb(0, 0, 0);\"></td><td title=\"Index: [0, 1]&#10;Color: (123, 234, 123)\" style=\"width: 20px; height: 20px;background-color: rgb(123, 234, 123);\"></td><td title=\"Index: [0, 2]&#10;Color: (0, 0, 0)\" style=\"width: 20px; height: 20px;background-color: rgb(0, 0, 0);\"></td><td title=\"Index: [0, 3]&#10;Color: (123, 234, 123)\" style=\"width: 20px; height: 20px;background-color: rgb(123, 234, 123);\"></td><td title=\"Index: [0, 4]&#10;Color: (0, 0, 0)\" style=\"width: 20px; height: 20px;background-color: rgb(0, 0, 0);\"></td><td title=\"Index: [0, 5]&#10;Color: (123, 234, 123)\" style=\"width: 20px; height: 20px;background-color: rgb(123, 234, 123);\"></td><td title=\"Index: [0, 6]&#10;Color: (0, 0, 0)\" style=\"width: 20px; height: 20px;background-color: rgb(0, 0, 0);\"></td><td title=\"Index: [0, 7]&#10;Color: (123, 234, 123)\" style=\"width: 20px; height: 20px;background-color: rgb(123, 234, 123);\"></td><td title=\"Index: [0, 8]&#10;Color: (0, 0, 0)\" style=\"width: 20px; height: 20px;background-color: rgb(0, 0, 0);\"></td><td title=\"Index: [0, 9]&#10;Color: (123, 234, 123)\" style=\"width: 20px; height: 20px;background-color: rgb(123, 234, 123);\"></td></tr><tr><td title=\"Index: [1, 0]&#10;Color: (123, 234, 123)\" style=\"width: 20px; height: 20px;background-color: rgb(123, 234, 123);\"></td><td title=\"Index: [1, 1]&#10;Color: (123, 234, 123)\" style=\"width: 20px; height: 20px;background-color: rgb(123, 234, 123);\"></td><td title=\"Index: [1, 2]&#10;Color: (123, 234, 123)\" style=\"width: 20px; height: 20px;background-color: rgb(123, 234, 123);\"></td><td title=\"Index: [1, 3]&#10;Color: (123, 234, 123)\" style=\"width: 20px; height: 20px;background-color: rgb(123, 234, 123);\"></td><td title=\"Index: [1, 4]&#10;Color: (123, 234, 123)\" style=\"width: 20px; height: 20px;background-color: rgb(123, 234, 123);\"></td><td title=\"Index: [1, 5]&#10;Color: (123, 234, 123)\" style=\"width: 20px; height: 20px;background-color: rgb(123, 234, 123);\"></td><td title=\"Index: [1, 6]&#10;Color: (123, 234, 123)\" style=\"width: 20px; height: 20px;background-color: rgb(123, 234, 123);\"></td><td title=\"Index: [1, 7]&#10;Color: (123, 234, 123)\" style=\"width: 20px; height: 20px;background-color: rgb(123, 234, 123);\"></td><td title=\"Index: [1, 8]&#10;Color: (123, 234, 123)\" style=\"width: 20px; height: 20px;background-color: rgb(123, 234, 123);\"></td><td title=\"Index: [1, 9]&#10;Color: (123, 234, 123)\" style=\"width: 20px; height: 20px;background-color: rgb(123, 234, 123);\"></td></tr><tr><td title=\"Index: [2, 0]&#10;Color: (0, 0, 0)\" style=\"width: 20px; height: 20px;background-color: rgb(0, 0, 0);\"></td><td title=\"Index: [2, 1]&#10;Color: (123, 234, 123)\" style=\"width: 20px; height: 20px;background-color: rgb(123, 234, 123);\"></td><td title=\"Index: [2, 2]&#10;Color: (0, 0, 0)\" style=\"width: 20px; height: 20px;background-color: rgb(0, 0, 0);\"></td><td title=\"Index: [2, 3]&#10;Color: (123, 234, 123)\" style=\"width: 20px; height: 20px;background-color: rgb(123, 234, 123);\"></td><td title=\"Index: [2, 4]&#10;Color: (0, 0, 0)\" style=\"width: 20px; height: 20px;background-color: rgb(0, 0, 0);\"></td><td title=\"Index: [2, 5]&#10;Color: (123, 234, 123)\" style=\"width: 20px; height: 20px;background-color: rgb(123, 234, 123);\"></td><td title=\"Index: [2, 6]&#10;Color: (0, 0, 0)\" style=\"width: 20px; height: 20px;background-color: rgb(0, 0, 0);\"></td><td title=\"Index: [2, 7]&#10;Color: (123, 234, 123)\" style=\"width: 20px; height: 20px;background-color: rgb(123, 234, 123);\"></td><td title=\"Index: [2, 8]&#10;Color: (0, 0, 0)\" style=\"width: 20px; height: 20px;background-color: rgb(0, 0, 0);\"></td><td title=\"Index: [2, 9]&#10;Color: (123, 234, 123)\" style=\"width: 20px; height: 20px;background-color: rgb(123, 234, 123);\"></td></tr><tr><td title=\"Index: [3, 0]&#10;Color: (123, 234, 123)\" style=\"width: 20px; height: 20px;background-color: rgb(123, 234, 123);\"></td><td title=\"Index: [3, 1]&#10;Color: (123, 234, 123)\" style=\"width: 20px; height: 20px;background-color: rgb(123, 234, 123);\"></td><td title=\"Index: [3, 2]&#10;Color: (123, 234, 123)\" style=\"width: 20px; height: 20px;background-color: rgb(123, 234, 123);\"></td><td title=\"Index: [3, 3]&#10;Color: (123, 234, 123)\" style=\"width: 20px; height: 20px;background-color: rgb(123, 234, 123);\"></td><td title=\"Index: [3, 4]&#10;Color: (123, 234, 123)\" style=\"width: 20px; height: 20px;background-color: rgb(123, 234, 123);\"></td><td title=\"Index: [3, 5]&#10;Color: (123, 234, 123)\" style=\"width: 20px; height: 20px;background-color: rgb(123, 234, 123);\"></td><td title=\"Index: [3, 6]&#10;Color: (123, 234, 123)\" style=\"width: 20px; height: 20px;background-color: rgb(123, 234, 123);\"></td><td title=\"Index: [3, 7]&#10;Color: (123, 234, 123)\" style=\"width: 20px; height: 20px;background-color: rgb(123, 234, 123);\"></td><td title=\"Index: [3, 8]&#10;Color: (123, 234, 123)\" style=\"width: 20px; height: 20px;background-color: rgb(123, 234, 123);\"></td><td title=\"Index: [3, 9]&#10;Color: (123, 234, 123)\" style=\"width: 20px; height: 20px;background-color: rgb(123, 234, 123);\"></td></tr><tr><td title=\"Index: [4, 0]&#10;Color: (0, 0, 0)\" style=\"width: 20px; height: 20px;background-color: rgb(0, 0, 0);\"></td><td title=\"Index: [4, 1]&#10;Color: (123, 234, 123)\" style=\"width: 20px; height: 20px;background-color: rgb(123, 234, 123);\"></td><td title=\"Index: [4, 2]&#10;Color: (0, 0, 0)\" style=\"width: 20px; height: 20px;background-color: rgb(0, 0, 0);\"></td><td title=\"Index: [4, 3]&#10;Color: (123, 234, 123)\" style=\"width: 20px; height: 20px;background-color: rgb(123, 234, 123);\"></td><td title=\"Index: [4, 4]&#10;Color: (0, 0, 0)\" style=\"width: 20px; height: 20px;background-color: rgb(0, 0, 0);\"></td><td title=\"Index: [4, 5]&#10;Color: (123, 234, 123)\" style=\"width: 20px; height: 20px;background-color: rgb(123, 234, 123);\"></td><td title=\"Index: [4, 6]&#10;Color: (0, 0, 0)\" style=\"width: 20px; height: 20px;background-color: rgb(0, 0, 0);\"></td><td title=\"Index: [4, 7]&#10;Color: (123, 234, 123)\" style=\"width: 20px; height: 20px;background-color: rgb(123, 234, 123);\"></td><td title=\"Index: [4, 8]&#10;Color: (0, 0, 0)\" style=\"width: 20px; height: 20px;background-color: rgb(0, 0, 0);\"></td><td title=\"Index: [4, 9]&#10;Color: (123, 234, 123)\" style=\"width: 20px; height: 20px;background-color: rgb(123, 234, 123);\"></td></tr><tr><td title=\"Index: [5, 0]&#10;Color: (123, 234, 123)\" style=\"width: 20px; height: 20px;background-color: rgb(123, 234, 123);\"></td><td title=\"Index: [5, 1]&#10;Color: (123, 234, 123)\" style=\"width: 20px; height: 20px;background-color: rgb(123, 234, 123);\"></td><td title=\"Index: [5, 2]&#10;Color: (123, 234, 123)\" style=\"width: 20px; height: 20px;background-color: rgb(123, 234, 123);\"></td><td title=\"Index: [5, 3]&#10;Color: (123, 234, 123)\" style=\"width: 20px; height: 20px;background-color: rgb(123, 234, 123);\"></td><td title=\"Index: [5, 4]&#10;Color: (123, 234, 123)\" style=\"width: 20px; height: 20px;background-color: rgb(123, 234, 123);\"></td><td title=\"Index: [5, 5]&#10;Color: (123, 234, 123)\" style=\"width: 20px; height: 20px;background-color: rgb(123, 234, 123);\"></td><td title=\"Index: [5, 6]&#10;Color: (123, 234, 123)\" style=\"width: 20px; height: 20px;background-color: rgb(123, 234, 123);\"></td><td title=\"Index: [5, 7]&#10;Color: (123, 234, 123)\" style=\"width: 20px; height: 20px;background-color: rgb(123, 234, 123);\"></td><td title=\"Index: [5, 8]&#10;Color: (123, 234, 123)\" style=\"width: 20px; height: 20px;background-color: rgb(123, 234, 123);\"></td><td title=\"Index: [5, 9]&#10;Color: (123, 234, 123)\" style=\"width: 20px; height: 20px;background-color: rgb(123, 234, 123);\"></td></tr><tr><td title=\"Index: [6, 0]&#10;Color: (0, 0, 0)\" style=\"width: 20px; height: 20px;background-color: rgb(0, 0, 0);\"></td><td title=\"Index: [6, 1]&#10;Color: (123, 234, 123)\" style=\"width: 20px; height: 20px;background-color: rgb(123, 234, 123);\"></td><td title=\"Index: [6, 2]&#10;Color: (0, 0, 0)\" style=\"width: 20px; height: 20px;background-color: rgb(0, 0, 0);\"></td><td title=\"Index: [6, 3]&#10;Color: (123, 234, 123)\" style=\"width: 20px; height: 20px;background-color: rgb(123, 234, 123);\"></td><td title=\"Index: [6, 4]&#10;Color: (0, 0, 0)\" style=\"width: 20px; height: 20px;background-color: rgb(0, 0, 0);\"></td><td title=\"Index: [6, 5]&#10;Color: (123, 234, 123)\" style=\"width: 20px; height: 20px;background-color: rgb(123, 234, 123);\"></td><td title=\"Index: [6, 6]&#10;Color: (0, 0, 0)\" style=\"width: 20px; height: 20px;background-color: rgb(0, 0, 0);\"></td><td title=\"Index: [6, 7]&#10;Color: (123, 234, 123)\" style=\"width: 20px; height: 20px;background-color: rgb(123, 234, 123);\"></td><td title=\"Index: [6, 8]&#10;Color: (0, 0, 0)\" style=\"width: 20px; height: 20px;background-color: rgb(0, 0, 0);\"></td><td title=\"Index: [6, 9]&#10;Color: (123, 234, 123)\" style=\"width: 20px; height: 20px;background-color: rgb(123, 234, 123);\"></td></tr><tr><td title=\"Index: [7, 0]&#10;Color: (123, 234, 123)\" style=\"width: 20px; height: 20px;background-color: rgb(123, 234, 123);\"></td><td title=\"Index: [7, 1]&#10;Color: (123, 234, 123)\" style=\"width: 20px; height: 20px;background-color: rgb(123, 234, 123);\"></td><td title=\"Index: [7, 2]&#10;Color: (123, 234, 123)\" style=\"width: 20px; height: 20px;background-color: rgb(123, 234, 123);\"></td><td title=\"Index: [7, 3]&#10;Color: (123, 234, 123)\" style=\"width: 20px; height: 20px;background-color: rgb(123, 234, 123);\"></td><td title=\"Index: [7, 4]&#10;Color: (123, 234, 123)\" style=\"width: 20px; height: 20px;background-color: rgb(123, 234, 123);\"></td><td title=\"Index: [7, 5]&#10;Color: (123, 234, 123)\" style=\"width: 20px; height: 20px;background-color: rgb(123, 234, 123);\"></td><td title=\"Index: [7, 6]&#10;Color: (123, 234, 123)\" style=\"width: 20px; height: 20px;background-color: rgb(123, 234, 123);\"></td><td title=\"Index: [7, 7]&#10;Color: (123, 234, 123)\" style=\"width: 20px; height: 20px;background-color: rgb(123, 234, 123);\"></td><td title=\"Index: [7, 8]&#10;Color: (123, 234, 123)\" style=\"width: 20px; height: 20px;background-color: rgb(123, 234, 123);\"></td><td title=\"Index: [7, 9]&#10;Color: (123, 234, 123)\" style=\"width: 20px; height: 20px;background-color: rgb(123, 234, 123);\"></td></tr><tr><td title=\"Index: [8, 0]&#10;Color: (0, 0, 0)\" style=\"width: 20px; height: 20px;background-color: rgb(0, 0, 0);\"></td><td title=\"Index: [8, 1]&#10;Color: (123, 234, 123)\" style=\"width: 20px; height: 20px;background-color: rgb(123, 234, 123);\"></td><td title=\"Index: [8, 2]&#10;Color: (0, 0, 0)\" style=\"width: 20px; height: 20px;background-color: rgb(0, 0, 0);\"></td><td title=\"Index: [8, 3]&#10;Color: (123, 234, 123)\" style=\"width: 20px; height: 20px;background-color: rgb(123, 234, 123);\"></td><td title=\"Index: [8, 4]&#10;Color: (0, 0, 0)\" style=\"width: 20px; height: 20px;background-color: rgb(0, 0, 0);\"></td><td title=\"Index: [8, 5]&#10;Color: (123, 234, 123)\" style=\"width: 20px; height: 20px;background-color: rgb(123, 234, 123);\"></td><td title=\"Index: [8, 6]&#10;Color: (0, 0, 0)\" style=\"width: 20px; height: 20px;background-color: rgb(0, 0, 0);\"></td><td title=\"Index: [8, 7]&#10;Color: (123, 234, 123)\" style=\"width: 20px; height: 20px;background-color: rgb(123, 234, 123);\"></td><td title=\"Index: [8, 8]&#10;Color: (0, 0, 0)\" style=\"width: 20px; height: 20px;background-color: rgb(0, 0, 0);\"></td><td title=\"Index: [8, 9]&#10;Color: (123, 234, 123)\" style=\"width: 20px; height: 20px;background-color: rgb(123, 234, 123);\"></td></tr><tr><td title=\"Index: [9, 0]&#10;Color: (123, 234, 123)\" style=\"width: 20px; height: 20px;background-color: rgb(123, 234, 123);\"></td><td title=\"Index: [9, 1]&#10;Color: (123, 234, 123)\" style=\"width: 20px; height: 20px;background-color: rgb(123, 234, 123);\"></td><td title=\"Index: [9, 2]&#10;Color: (123, 234, 123)\" style=\"width: 20px; height: 20px;background-color: rgb(123, 234, 123);\"></td><td title=\"Index: [9, 3]&#10;Color: (123, 234, 123)\" style=\"width: 20px; height: 20px;background-color: rgb(123, 234, 123);\"></td><td title=\"Index: [9, 4]&#10;Color: (123, 234, 123)\" style=\"width: 20px; height: 20px;background-color: rgb(123, 234, 123);\"></td><td title=\"Index: [9, 5]&#10;Color: (123, 234, 123)\" style=\"width: 20px; height: 20px;background-color: rgb(123, 234, 123);\"></td><td title=\"Index: [9, 6]&#10;Color: (123, 234, 123)\" style=\"width: 20px; height: 20px;background-color: rgb(123, 234, 123);\"></td><td title=\"Index: [9, 7]&#10;Color: (123, 234, 123)\" style=\"width: 20px; height: 20px;background-color: rgb(123, 234, 123);\"></td><td title=\"Index: [9, 8]&#10;Color: (123, 234, 123)\" style=\"width: 20px; height: 20px;background-color: rgb(123, 234, 123);\"></td><td title=\"Index: [9, 9]&#10;Color: (123, 234, 123)\" style=\"width: 20px; height: 20px;background-color: rgb(123, 234, 123);\"></td></tr></tbody></table>"
      ],
      "text/plain": [
       "<ipythonblocks.ipythonblocks.BlockGrid at 0x1a32af8a400>"
      ]
     },
     "execution_count": 34,
     "metadata": {},
     "output_type": "execute_result"
    }
   ],
   "source": [
    "for block in grid:\n",
    "    if block.row % 2 == 0 and block.col % 2 == 0:\n",
    "        block.red = 0\n",
    "        block.green = 0\n",
    "        block.blue = 0\n",
    "grid"
   ]
  },
  {
   "cell_type": "code",
   "execution_count": 36,
   "metadata": {},
   "outputs": [
    {
     "data": {
      "text/html": [
       "<style type=\"text/css\">table.blockgrid {border: none;} .blockgrid tr {border: none;} .blockgrid td {padding: 0px;} #blocksfd7010f5-d707-4ff7-9973-5e2a6fd57d2a td {border: 1px solid white;}</style><table id=\"blocksfd7010f5-d707-4ff7-9973-5e2a6fd57d2a\" class=\"blockgrid\"><tbody><tr><td title=\"Index: [0, 0]&#10;Color: (100, 15, 15)\" style=\"width: 20px; height: 20px;background-color: rgb(100, 15, 15);\"></td><td title=\"Index: [0, 1]&#10;Color: (100, 15, 255)\" style=\"width: 20px; height: 20px;background-color: rgb(100, 15, 255);\"></td><td title=\"Index: [0, 2]&#10;Color: (100, 15, 15)\" style=\"width: 20px; height: 20px;background-color: rgb(100, 15, 15);\"></td><td title=\"Index: [0, 3]&#10;Color: (100, 15, 255)\" style=\"width: 20px; height: 20px;background-color: rgb(100, 15, 255);\"></td><td title=\"Index: [0, 4]&#10;Color: (100, 15, 15)\" style=\"width: 20px; height: 20px;background-color: rgb(100, 15, 15);\"></td><td title=\"Index: [0, 5]&#10;Color: (100, 15, 255)\" style=\"width: 20px; height: 20px;background-color: rgb(100, 15, 255);\"></td><td title=\"Index: [0, 6]&#10;Color: (100, 15, 15)\" style=\"width: 20px; height: 20px;background-color: rgb(100, 15, 15);\"></td><td title=\"Index: [0, 7]&#10;Color: (100, 15, 255)\" style=\"width: 20px; height: 20px;background-color: rgb(100, 15, 255);\"></td><td title=\"Index: [0, 8]&#10;Color: (100, 15, 15)\" style=\"width: 20px; height: 20px;background-color: rgb(100, 15, 15);\"></td><td title=\"Index: [0, 9]&#10;Color: (100, 15, 255)\" style=\"width: 20px; height: 20px;background-color: rgb(100, 15, 255);\"></td></tr><tr><td title=\"Index: [1, 0]&#10;Color: (100, 255, 15)\" style=\"width: 20px; height: 20px;background-color: rgb(100, 255, 15);\"></td><td title=\"Index: [1, 1]&#10;Color: (100, 255, 255)\" style=\"width: 20px; height: 20px;background-color: rgb(100, 255, 255);\"></td><td title=\"Index: [1, 2]&#10;Color: (100, 255, 15)\" style=\"width: 20px; height: 20px;background-color: rgb(100, 255, 15);\"></td><td title=\"Index: [1, 3]&#10;Color: (100, 255, 255)\" style=\"width: 20px; height: 20px;background-color: rgb(100, 255, 255);\"></td><td title=\"Index: [1, 4]&#10;Color: (100, 255, 15)\" style=\"width: 20px; height: 20px;background-color: rgb(100, 255, 15);\"></td><td title=\"Index: [1, 5]&#10;Color: (100, 255, 255)\" style=\"width: 20px; height: 20px;background-color: rgb(100, 255, 255);\"></td><td title=\"Index: [1, 6]&#10;Color: (100, 255, 15)\" style=\"width: 20px; height: 20px;background-color: rgb(100, 255, 15);\"></td><td title=\"Index: [1, 7]&#10;Color: (100, 255, 255)\" style=\"width: 20px; height: 20px;background-color: rgb(100, 255, 255);\"></td><td title=\"Index: [1, 8]&#10;Color: (100, 255, 15)\" style=\"width: 20px; height: 20px;background-color: rgb(100, 255, 15);\"></td><td title=\"Index: [1, 9]&#10;Color: (100, 255, 255)\" style=\"width: 20px; height: 20px;background-color: rgb(100, 255, 255);\"></td></tr><tr><td title=\"Index: [2, 0]&#10;Color: (100, 15, 15)\" style=\"width: 20px; height: 20px;background-color: rgb(100, 15, 15);\"></td><td title=\"Index: [2, 1]&#10;Color: (100, 15, 255)\" style=\"width: 20px; height: 20px;background-color: rgb(100, 15, 255);\"></td><td title=\"Index: [2, 2]&#10;Color: (100, 15, 15)\" style=\"width: 20px; height: 20px;background-color: rgb(100, 15, 15);\"></td><td title=\"Index: [2, 3]&#10;Color: (100, 15, 255)\" style=\"width: 20px; height: 20px;background-color: rgb(100, 15, 255);\"></td><td title=\"Index: [2, 4]&#10;Color: (100, 15, 15)\" style=\"width: 20px; height: 20px;background-color: rgb(100, 15, 15);\"></td><td title=\"Index: [2, 5]&#10;Color: (100, 15, 255)\" style=\"width: 20px; height: 20px;background-color: rgb(100, 15, 255);\"></td><td title=\"Index: [2, 6]&#10;Color: (100, 15, 15)\" style=\"width: 20px; height: 20px;background-color: rgb(100, 15, 15);\"></td><td title=\"Index: [2, 7]&#10;Color: (100, 15, 255)\" style=\"width: 20px; height: 20px;background-color: rgb(100, 15, 255);\"></td><td title=\"Index: [2, 8]&#10;Color: (100, 15, 15)\" style=\"width: 20px; height: 20px;background-color: rgb(100, 15, 15);\"></td><td title=\"Index: [2, 9]&#10;Color: (100, 15, 255)\" style=\"width: 20px; height: 20px;background-color: rgb(100, 15, 255);\"></td></tr><tr><td title=\"Index: [3, 0]&#10;Color: (100, 255, 15)\" style=\"width: 20px; height: 20px;background-color: rgb(100, 255, 15);\"></td><td title=\"Index: [3, 1]&#10;Color: (100, 255, 255)\" style=\"width: 20px; height: 20px;background-color: rgb(100, 255, 255);\"></td><td title=\"Index: [3, 2]&#10;Color: (100, 255, 15)\" style=\"width: 20px; height: 20px;background-color: rgb(100, 255, 15);\"></td><td title=\"Index: [3, 3]&#10;Color: (100, 255, 255)\" style=\"width: 20px; height: 20px;background-color: rgb(100, 255, 255);\"></td><td title=\"Index: [3, 4]&#10;Color: (100, 255, 15)\" style=\"width: 20px; height: 20px;background-color: rgb(100, 255, 15);\"></td><td title=\"Index: [3, 5]&#10;Color: (100, 255, 255)\" style=\"width: 20px; height: 20px;background-color: rgb(100, 255, 255);\"></td><td title=\"Index: [3, 6]&#10;Color: (100, 255, 15)\" style=\"width: 20px; height: 20px;background-color: rgb(100, 255, 15);\"></td><td title=\"Index: [3, 7]&#10;Color: (100, 255, 255)\" style=\"width: 20px; height: 20px;background-color: rgb(100, 255, 255);\"></td><td title=\"Index: [3, 8]&#10;Color: (100, 255, 15)\" style=\"width: 20px; height: 20px;background-color: rgb(100, 255, 15);\"></td><td title=\"Index: [3, 9]&#10;Color: (100, 255, 255)\" style=\"width: 20px; height: 20px;background-color: rgb(100, 255, 255);\"></td></tr><tr><td title=\"Index: [4, 0]&#10;Color: (100, 15, 15)\" style=\"width: 20px; height: 20px;background-color: rgb(100, 15, 15);\"></td><td title=\"Index: [4, 1]&#10;Color: (100, 15, 255)\" style=\"width: 20px; height: 20px;background-color: rgb(100, 15, 255);\"></td><td title=\"Index: [4, 2]&#10;Color: (100, 15, 15)\" style=\"width: 20px; height: 20px;background-color: rgb(100, 15, 15);\"></td><td title=\"Index: [4, 3]&#10;Color: (100, 15, 255)\" style=\"width: 20px; height: 20px;background-color: rgb(100, 15, 255);\"></td><td title=\"Index: [4, 4]&#10;Color: (100, 15, 15)\" style=\"width: 20px; height: 20px;background-color: rgb(100, 15, 15);\"></td><td title=\"Index: [4, 5]&#10;Color: (100, 15, 255)\" style=\"width: 20px; height: 20px;background-color: rgb(100, 15, 255);\"></td><td title=\"Index: [4, 6]&#10;Color: (100, 15, 15)\" style=\"width: 20px; height: 20px;background-color: rgb(100, 15, 15);\"></td><td title=\"Index: [4, 7]&#10;Color: (100, 15, 255)\" style=\"width: 20px; height: 20px;background-color: rgb(100, 15, 255);\"></td><td title=\"Index: [4, 8]&#10;Color: (100, 15, 15)\" style=\"width: 20px; height: 20px;background-color: rgb(100, 15, 15);\"></td><td title=\"Index: [4, 9]&#10;Color: (100, 15, 255)\" style=\"width: 20px; height: 20px;background-color: rgb(100, 15, 255);\"></td></tr><tr><td title=\"Index: [5, 0]&#10;Color: (100, 255, 15)\" style=\"width: 20px; height: 20px;background-color: rgb(100, 255, 15);\"></td><td title=\"Index: [5, 1]&#10;Color: (100, 255, 255)\" style=\"width: 20px; height: 20px;background-color: rgb(100, 255, 255);\"></td><td title=\"Index: [5, 2]&#10;Color: (100, 255, 15)\" style=\"width: 20px; height: 20px;background-color: rgb(100, 255, 15);\"></td><td title=\"Index: [5, 3]&#10;Color: (100, 255, 255)\" style=\"width: 20px; height: 20px;background-color: rgb(100, 255, 255);\"></td><td title=\"Index: [5, 4]&#10;Color: (100, 255, 15)\" style=\"width: 20px; height: 20px;background-color: rgb(100, 255, 15);\"></td><td title=\"Index: [5, 5]&#10;Color: (100, 255, 255)\" style=\"width: 20px; height: 20px;background-color: rgb(100, 255, 255);\"></td><td title=\"Index: [5, 6]&#10;Color: (100, 255, 15)\" style=\"width: 20px; height: 20px;background-color: rgb(100, 255, 15);\"></td><td title=\"Index: [5, 7]&#10;Color: (100, 255, 255)\" style=\"width: 20px; height: 20px;background-color: rgb(100, 255, 255);\"></td><td title=\"Index: [5, 8]&#10;Color: (100, 255, 15)\" style=\"width: 20px; height: 20px;background-color: rgb(100, 255, 15);\"></td><td title=\"Index: [5, 9]&#10;Color: (100, 255, 255)\" style=\"width: 20px; height: 20px;background-color: rgb(100, 255, 255);\"></td></tr><tr><td title=\"Index: [6, 0]&#10;Color: (100, 15, 15)\" style=\"width: 20px; height: 20px;background-color: rgb(100, 15, 15);\"></td><td title=\"Index: [6, 1]&#10;Color: (100, 15, 255)\" style=\"width: 20px; height: 20px;background-color: rgb(100, 15, 255);\"></td><td title=\"Index: [6, 2]&#10;Color: (100, 15, 15)\" style=\"width: 20px; height: 20px;background-color: rgb(100, 15, 15);\"></td><td title=\"Index: [6, 3]&#10;Color: (100, 15, 255)\" style=\"width: 20px; height: 20px;background-color: rgb(100, 15, 255);\"></td><td title=\"Index: [6, 4]&#10;Color: (100, 15, 15)\" style=\"width: 20px; height: 20px;background-color: rgb(100, 15, 15);\"></td><td title=\"Index: [6, 5]&#10;Color: (100, 15, 255)\" style=\"width: 20px; height: 20px;background-color: rgb(100, 15, 255);\"></td><td title=\"Index: [6, 6]&#10;Color: (100, 15, 15)\" style=\"width: 20px; height: 20px;background-color: rgb(100, 15, 15);\"></td><td title=\"Index: [6, 7]&#10;Color: (100, 15, 255)\" style=\"width: 20px; height: 20px;background-color: rgb(100, 15, 255);\"></td><td title=\"Index: [6, 8]&#10;Color: (100, 15, 15)\" style=\"width: 20px; height: 20px;background-color: rgb(100, 15, 15);\"></td><td title=\"Index: [6, 9]&#10;Color: (100, 15, 255)\" style=\"width: 20px; height: 20px;background-color: rgb(100, 15, 255);\"></td></tr><tr><td title=\"Index: [7, 0]&#10;Color: (100, 255, 15)\" style=\"width: 20px; height: 20px;background-color: rgb(100, 255, 15);\"></td><td title=\"Index: [7, 1]&#10;Color: (100, 255, 255)\" style=\"width: 20px; height: 20px;background-color: rgb(100, 255, 255);\"></td><td title=\"Index: [7, 2]&#10;Color: (100, 255, 15)\" style=\"width: 20px; height: 20px;background-color: rgb(100, 255, 15);\"></td><td title=\"Index: [7, 3]&#10;Color: (100, 255, 255)\" style=\"width: 20px; height: 20px;background-color: rgb(100, 255, 255);\"></td><td title=\"Index: [7, 4]&#10;Color: (100, 255, 15)\" style=\"width: 20px; height: 20px;background-color: rgb(100, 255, 15);\"></td><td title=\"Index: [7, 5]&#10;Color: (100, 255, 255)\" style=\"width: 20px; height: 20px;background-color: rgb(100, 255, 255);\"></td><td title=\"Index: [7, 6]&#10;Color: (100, 255, 15)\" style=\"width: 20px; height: 20px;background-color: rgb(100, 255, 15);\"></td><td title=\"Index: [7, 7]&#10;Color: (100, 255, 255)\" style=\"width: 20px; height: 20px;background-color: rgb(100, 255, 255);\"></td><td title=\"Index: [7, 8]&#10;Color: (100, 255, 15)\" style=\"width: 20px; height: 20px;background-color: rgb(100, 255, 15);\"></td><td title=\"Index: [7, 9]&#10;Color: (100, 255, 255)\" style=\"width: 20px; height: 20px;background-color: rgb(100, 255, 255);\"></td></tr><tr><td title=\"Index: [8, 0]&#10;Color: (100, 15, 15)\" style=\"width: 20px; height: 20px;background-color: rgb(100, 15, 15);\"></td><td title=\"Index: [8, 1]&#10;Color: (100, 15, 255)\" style=\"width: 20px; height: 20px;background-color: rgb(100, 15, 255);\"></td><td title=\"Index: [8, 2]&#10;Color: (100, 15, 15)\" style=\"width: 20px; height: 20px;background-color: rgb(100, 15, 15);\"></td><td title=\"Index: [8, 3]&#10;Color: (100, 15, 255)\" style=\"width: 20px; height: 20px;background-color: rgb(100, 15, 255);\"></td><td title=\"Index: [8, 4]&#10;Color: (100, 15, 15)\" style=\"width: 20px; height: 20px;background-color: rgb(100, 15, 15);\"></td><td title=\"Index: [8, 5]&#10;Color: (100, 15, 255)\" style=\"width: 20px; height: 20px;background-color: rgb(100, 15, 255);\"></td><td title=\"Index: [8, 6]&#10;Color: (100, 15, 15)\" style=\"width: 20px; height: 20px;background-color: rgb(100, 15, 15);\"></td><td title=\"Index: [8, 7]&#10;Color: (100, 15, 255)\" style=\"width: 20px; height: 20px;background-color: rgb(100, 15, 255);\"></td><td title=\"Index: [8, 8]&#10;Color: (100, 15, 15)\" style=\"width: 20px; height: 20px;background-color: rgb(100, 15, 15);\"></td><td title=\"Index: [8, 9]&#10;Color: (100, 15, 255)\" style=\"width: 20px; height: 20px;background-color: rgb(100, 15, 255);\"></td></tr><tr><td title=\"Index: [9, 0]&#10;Color: (100, 255, 15)\" style=\"width: 20px; height: 20px;background-color: rgb(100, 255, 15);\"></td><td title=\"Index: [9, 1]&#10;Color: (100, 255, 255)\" style=\"width: 20px; height: 20px;background-color: rgb(100, 255, 255);\"></td><td title=\"Index: [9, 2]&#10;Color: (100, 255, 15)\" style=\"width: 20px; height: 20px;background-color: rgb(100, 255, 15);\"></td><td title=\"Index: [9, 3]&#10;Color: (100, 255, 255)\" style=\"width: 20px; height: 20px;background-color: rgb(100, 255, 255);\"></td><td title=\"Index: [9, 4]&#10;Color: (100, 255, 15)\" style=\"width: 20px; height: 20px;background-color: rgb(100, 255, 15);\"></td><td title=\"Index: [9, 5]&#10;Color: (100, 255, 255)\" style=\"width: 20px; height: 20px;background-color: rgb(100, 255, 255);\"></td><td title=\"Index: [9, 6]&#10;Color: (100, 255, 15)\" style=\"width: 20px; height: 20px;background-color: rgb(100, 255, 15);\"></td><td title=\"Index: [9, 7]&#10;Color: (100, 255, 255)\" style=\"width: 20px; height: 20px;background-color: rgb(100, 255, 255);\"></td><td title=\"Index: [9, 8]&#10;Color: (100, 255, 15)\" style=\"width: 20px; height: 20px;background-color: rgb(100, 255, 15);\"></td><td title=\"Index: [9, 9]&#10;Color: (100, 255, 255)\" style=\"width: 20px; height: 20px;background-color: rgb(100, 255, 255);\"></td></tr></tbody></table>"
      ],
      "text/plain": [
       "<IPython.core.display.HTML object>"
      ]
     },
     "metadata": {},
     "output_type": "display_data"
    }
   ],
   "source": [
    "for r in range(grid.height):\n",
    "    for c in range(grid.width):\n",
    "        sq = grid[r, c]\n",
    "        sq.red = 100\n",
    "        \n",
    "        if r % 2 == 0:\n",
    "            sq.green = 15\n",
    "        else:\n",
    "            sq.green = 255\n",
    "        \n",
    "        if c % 2 == 0:\n",
    "            sq.blue = 15\n",
    "        else:\n",
    "            sq.blue = 255\n",
    "grid.show()"
   ]
  },
  {
   "cell_type": "code",
   "execution_count": 37,
   "metadata": {},
   "outputs": [
    {
     "data": {
      "text/html": [
       "<style type=\"text/css\">table.blockgrid {border: none;} .blockgrid tr {border: none;} .blockgrid td {padding: 0px;} #blocksf42287a9-ef46-41f8-bb91-f316f9be9dbf td {border: 1px solid white;}</style><table id=\"blocksf42287a9-ef46-41f8-bb91-f316f9be9dbf\" class=\"blockgrid\"><tbody><tr><td title=\"Index: [0, 0]&#10;Color: (100, 15, 255)\" style=\"width: 20px; height: 20px;background-color: rgb(100, 15, 255);\"></td></tr><tr><td title=\"Index: [1, 0]&#10;Color: (100, 255, 255)\" style=\"width: 20px; height: 20px;background-color: rgb(100, 255, 255);\"></td></tr><tr><td title=\"Index: [2, 0]&#10;Color: (100, 15, 255)\" style=\"width: 20px; height: 20px;background-color: rgb(100, 15, 255);\"></td></tr><tr><td title=\"Index: [3, 0]&#10;Color: (100, 255, 255)\" style=\"width: 20px; height: 20px;background-color: rgb(100, 255, 255);\"></td></tr><tr><td title=\"Index: [4, 0]&#10;Color: (100, 15, 255)\" style=\"width: 20px; height: 20px;background-color: rgb(100, 15, 255);\"></td></tr><tr><td title=\"Index: [5, 0]&#10;Color: (100, 255, 255)\" style=\"width: 20px; height: 20px;background-color: rgb(100, 255, 255);\"></td></tr><tr><td title=\"Index: [6, 0]&#10;Color: (100, 15, 255)\" style=\"width: 20px; height: 20px;background-color: rgb(100, 15, 255);\"></td></tr><tr><td title=\"Index: [7, 0]&#10;Color: (100, 255, 255)\" style=\"width: 20px; height: 20px;background-color: rgb(100, 255, 255);\"></td></tr><tr><td title=\"Index: [8, 0]&#10;Color: (100, 15, 255)\" style=\"width: 20px; height: 20px;background-color: rgb(100, 15, 255);\"></td></tr><tr><td title=\"Index: [9, 0]&#10;Color: (100, 255, 255)\" style=\"width: 20px; height: 20px;background-color: rgb(100, 255, 255);\"></td></tr></tbody></table>"
      ],
      "text/plain": [
       "<IPython.core.display.HTML object>"
      ]
     },
     "metadata": {},
     "output_type": "display_data"
    }
   ],
   "source": [
    "sub_grid = grid[:,5]\n",
    "sub_grid.show()"
   ]
  },
  {
   "cell_type": "code",
   "execution_count": 60,
   "metadata": {},
   "outputs": [
    {
     "ename": "IndexError",
     "evalue": "only integers, slices (`:`), ellipsis (`...`), numpy.newaxis (`None`) and integer or boolean arrays are valid indices",
     "output_type": "error",
     "traceback": [
      "\u001b[1;31m---------------------------------------------------------------------------\u001b[0m",
      "\u001b[1;31mIndexError\u001b[0m                                Traceback (most recent call last)",
      "\u001b[1;32m<ipython-input-60-2c263b7cff9a>\u001b[0m in \u001b[0;36m<module>\u001b[1;34m()\u001b[0m\n\u001b[0;32m      5\u001b[0m \u001b[1;33m\u001b[0m\u001b[0m\n\u001b[0;32m      6\u001b[0m \u001b[1;32mfor\u001b[0m \u001b[0mblock\u001b[0m \u001b[1;32min\u001b[0m \u001b[0mgrid\u001b[0m\u001b[1;33m:\u001b[0m\u001b[1;33m\u001b[0m\u001b[0m\n\u001b[1;32m----> 7\u001b[1;33m     \u001b[1;32mif\u001b[0m \u001b[1;33m(\u001b[0m\u001b[0mnp_array\u001b[0m\u001b[1;33m[\u001b[0m\u001b[0mblock\u001b[0m\u001b[1;33m]\u001b[0m \u001b[1;33m==\u001b[0m \u001b[1;36m1\u001b[0m\u001b[1;33m)\u001b[0m\u001b[1;33m:\u001b[0m\u001b[1;33m\u001b[0m\u001b[0m\n\u001b[0m\u001b[0;32m      8\u001b[0m         \u001b[0mblock\u001b[0m\u001b[1;33m.\u001b[0m\u001b[0mred\u001b[0m \u001b[1;33m=\u001b[0m \u001b[1;36m255\u001b[0m\u001b[1;33m\u001b[0m\u001b[0m\n\u001b[0;32m      9\u001b[0m         \u001b[0mblock\u001b[0m\u001b[1;33m.\u001b[0m\u001b[0mgreen\u001b[0m \u001b[1;33m=\u001b[0m \u001b[1;36m0\u001b[0m\u001b[1;33m\u001b[0m\u001b[0m\n",
      "\u001b[1;31mIndexError\u001b[0m: only integers, slices (`:`), ellipsis (`...`), numpy.newaxis (`None`) and integer or boolean arrays are valid indices"
     ]
    }
   ],
   "source": [
    "import numpy as np\n",
    "np_array = np.array([True, False, True, True, False])\n",
    "\n",
    "grid = BlockGrid(len(np_array), 1, fill=(0, 0, 0))\n",
    "\n",
    "for block in grid:\n",
    "    if (np_array[block] == 1:\n",
    "        block.red = 255\n",
    "        block.green = 0\n",
    "        block.blue = 0\n",
    "grid.show()"
   ]
  },
  {
   "cell_type": "markdown",
   "metadata": {},
   "source": [
    "## Part 2: numpy exercies notebook"
   ]
  },
  {
   "cell_type": "markdown",
   "metadata": {},
   "source": [
    "This part contains a selection of exercises from the [numpy 100 exercises notebook](http://bit.ly/2vN6N4F) on GitHub. I've selected some exercises that felt sufficiently challenging and that learned me something new. I've paid special attention to\n",
    "\n",
    "- indexing (sliced, fancy, boolean/masked)\n",
    "- vectorization\n",
    "- broadcasting\n",
    "- aggregation\n",
    "\n",
    "These are all concepts that make numpy very efficient for vector based computing. scikit-learn algorithms heavily depend on these concepts."
   ]
  },
  {
   "cell_type": "markdown",
   "metadata": {},
   "source": [
    "## Part 3: Python Data Science Handbook - numpy"
   ]
  },
  {
   "cell_type": "markdown",
   "metadata": {},
   "source": [
    "This part contains selected examples from the [Python Data Science Handbook](https://goo.gl/ay9Bqe). I've read through the chapter on numpy an matplotlib and here are some exercises I've extracted from them. I've adapted the code demos from the book slightly in order to better understand and learn specific features and functionality.\n",
    "I end with the k-Nearest Neighbors example from the book, as this gives me some insight in the implementation of a simple machine learning algorithm."
   ]
  },
  {
   "cell_type": "markdown",
   "metadata": {},
   "source": [
    "## Parts 4: Python Data Science Handbook - matploblib"
   ]
  },
  {
   "cell_type": "markdown",
   "metadata": {},
   "source": [
    "Finally I've created my own numpy dataset with randomized data. I'll use it to demonstrate my matplotlib visualization skills in the same fashion as has been done in the matplotlib chapter in the [Python Data Science Handbook](https://goo.gl/ay9Bqe)."
   ]
  }
 ],
 "metadata": {
  "kernelspec": {
   "display_name": "Python 3",
   "language": "python",
   "name": "python3"
  },
  "language_info": {
   "codemirror_mode": {
    "name": "ipython",
    "version": 3
   },
   "file_extension": ".py",
   "mimetype": "text/x-python",
   "name": "python",
   "nbconvert_exporter": "python",
   "pygments_lexer": "ipython3",
   "version": "3.6.1"
  }
 },
 "nbformat": 4,
 "nbformat_minor": 2
}
